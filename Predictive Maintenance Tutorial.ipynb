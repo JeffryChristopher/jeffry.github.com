{
 "cells": [
  {
   "cell_type": "markdown",
   "metadata": {},
   "source": [
    "# Predictive Maintenance"
   ]
  },
  {
   "cell_type": "markdown",
   "metadata": {},
   "source": [
    "These models were built from handcrafted datasets from https://www.unikie.com/en/stories/predictive-maintenance-tutorial-data-scientists/.\n",
    "\n",
    "This project was done with the intention of practising building various ML models for Predictive Maintenance purposes and compare their performances.\n",
    "\n",
    "The first dataset contains measurements from various sensors of the gadgets.\n",
    "\n",
    "The seconds dataset contains the failure time and the id of the failed gadget.\n",
    "\n"
   ]
  },
  {
   "cell_type": "markdown",
   "metadata": {},
   "source": [
    "## Importing Libraries"
   ]
  },
  {
   "cell_type": "code",
   "execution_count": 1,
   "metadata": {},
   "outputs": [],
   "source": [
    "import numpy as np\n",
    "import pandas as pd\n",
    "import matplotlib.pyplot as plt\n",
    "import seaborn as sns\n",
    "from pprint import pprint\n",
    "\n",
    "from sklearn.model_selection import train_test_split\n",
    "from sklearn.preprocessing import KBinsDiscretizer, MinMaxScaler, normalize\n",
    "from sklearn.metrics import accuracy_score, precision_score, recall_score, confusion_matrix, classification_report\n",
    "from sklearn.decomposition import PCA\n",
    "\n",
    "from sklearn.ensemble import RandomForestClassifier\n",
    "from sklearn.linear_model import LogisticRegression, LinearRegression, Lasso\n",
    "from sklearn.neighbors import KNeighborsClassifier\n",
    "from sklearn.neural_network import MLPClassifier\n",
    "from sklearn.svm import SVC\n",
    "from sklearn.naive_bayes import GaussianNB\n",
    "\n",
    "from sklearn.model_selection import RandomizedSearchCV\n",
    "from sklearn.model_selection import GridSearchCV"
   ]
  },
  {
   "cell_type": "markdown",
   "metadata": {},
   "source": [
    "## Importing the Datasets\n",
    "1. The first dataset contains data about the measurement time and other other parameters of the machine\n",
    "2. The second dataset contains data about the failure time"
   ]
  },
  {
   "cell_type": "code",
   "execution_count": 2,
   "metadata": {},
   "outputs": [
    {
     "data": {
      "text/html": [
       "<div>\n",
       "<style scoped>\n",
       "    .dataframe tbody tr th:only-of-type {\n",
       "        vertical-align: middle;\n",
       "    }\n",
       "\n",
       "    .dataframe tbody tr th {\n",
       "        vertical-align: top;\n",
       "    }\n",
       "\n",
       "    .dataframe thead th {\n",
       "        text-align: right;\n",
       "    }\n",
       "</style>\n",
       "<table border=\"1\" class=\"dataframe\">\n",
       "  <thead>\n",
       "    <tr style=\"text-align: right;\">\n",
       "      <th></th>\n",
       "      <th>measurement_time</th>\n",
       "      <th>gadget_id</th>\n",
       "      <th>vibration_x</th>\n",
       "      <th>vibration_y</th>\n",
       "      <th>pressure</th>\n",
       "      <th>temperature</th>\n",
       "      <th>Unnamed: 10</th>\n",
       "      <th>Unnamed: 11</th>\n",
       "    </tr>\n",
       "  </thead>\n",
       "  <tbody>\n",
       "    <tr>\n",
       "      <th>0</th>\n",
       "      <td>2020-07-15</td>\n",
       "      <td>1</td>\n",
       "      <td>3</td>\n",
       "      <td>7</td>\n",
       "      <td>16.0</td>\n",
       "      <td>44.114437</td>\n",
       "      <td>NaN</td>\n",
       "      <td>NaN</td>\n",
       "    </tr>\n",
       "    <tr>\n",
       "      <th>336</th>\n",
       "      <td>2020-07-15</td>\n",
       "      <td>3</td>\n",
       "      <td>3</td>\n",
       "      <td>8</td>\n",
       "      <td>11.0</td>\n",
       "      <td>40.427740</td>\n",
       "      <td>NaN</td>\n",
       "      <td>NaN</td>\n",
       "    </tr>\n",
       "    <tr>\n",
       "      <th>168</th>\n",
       "      <td>2020-07-15</td>\n",
       "      <td>2</td>\n",
       "      <td>3</td>\n",
       "      <td>10</td>\n",
       "      <td>16.0</td>\n",
       "      <td>22.300000</td>\n",
       "      <td>NaN</td>\n",
       "      <td>NaN</td>\n",
       "    </tr>\n",
       "    <tr>\n",
       "      <th>840</th>\n",
       "      <td>2020-07-15</td>\n",
       "      <td>6</td>\n",
       "      <td>7</td>\n",
       "      <td>6</td>\n",
       "      <td>12.0</td>\n",
       "      <td>75.874521</td>\n",
       "      <td>NaN</td>\n",
       "      <td>NaN</td>\n",
       "    </tr>\n",
       "    <tr>\n",
       "      <th>672</th>\n",
       "      <td>2020-07-15</td>\n",
       "      <td>5</td>\n",
       "      <td>4</td>\n",
       "      <td>7</td>\n",
       "      <td>12.0</td>\n",
       "      <td>81.125342</td>\n",
       "      <td>NaN</td>\n",
       "      <td>NaN</td>\n",
       "    </tr>\n",
       "  </tbody>\n",
       "</table>\n",
       "</div>"
      ],
      "text/plain": [
       "    measurement_time  gadget_id  vibration_x  vibration_y  pressure  \\\n",
       "0         2020-07-15          1            3            7      16.0   \n",
       "336       2020-07-15          3            3            8      11.0   \n",
       "168       2020-07-15          2            3           10      16.0   \n",
       "840       2020-07-15          6            7            6      12.0   \n",
       "672       2020-07-15          5            4            7      12.0   \n",
       "\n",
       "     temperature  Unnamed: 10  Unnamed: 11  \n",
       "0      44.114437          NaN          NaN  \n",
       "336    40.427740          NaN          NaN  \n",
       "168    22.300000          NaN          NaN  \n",
       "840    75.874521          NaN          NaN  \n",
       "672    81.125342          NaN          NaN  "
      ]
     },
     "execution_count": 2,
     "metadata": {},
     "output_type": "execute_result"
    }
   ],
   "source": [
    "df_measurements = pd.read_csv('measurements.csv', parse_dates=['measurement_time'])\n",
    "df_measurements = df_measurements.sort_values(by = ['measurement_time'], ascending=[True])\n",
    "df_measurements.head()"
   ]
  },
  {
   "cell_type": "code",
   "execution_count": 3,
   "metadata": {},
   "outputs": [
    {
     "data": {
      "text/html": [
       "<div>\n",
       "<style scoped>\n",
       "    .dataframe tbody tr th:only-of-type {\n",
       "        vertical-align: middle;\n",
       "    }\n",
       "\n",
       "    .dataframe tbody tr th {\n",
       "        vertical-align: top;\n",
       "    }\n",
       "\n",
       "    .dataframe thead th {\n",
       "        text-align: right;\n",
       "    }\n",
       "</style>\n",
       "<table border=\"1\" class=\"dataframe\">\n",
       "  <thead>\n",
       "    <tr style=\"text-align: right;\">\n",
       "      <th></th>\n",
       "      <th>failure_time</th>\n",
       "      <th>gadget_id</th>\n",
       "    </tr>\n",
       "  </thead>\n",
       "  <tbody>\n",
       "    <tr>\n",
       "      <th>52</th>\n",
       "      <td>2020-07-15 05:31:44.776014200</td>\n",
       "      <td>4</td>\n",
       "    </tr>\n",
       "    <tr>\n",
       "      <th>72</th>\n",
       "      <td>2020-07-15 05:48:58.383388460</td>\n",
       "      <td>5</td>\n",
       "    </tr>\n",
       "    <tr>\n",
       "      <th>53</th>\n",
       "      <td>2020-07-15 06:42:44.569051620</td>\n",
       "      <td>4</td>\n",
       "    </tr>\n",
       "    <tr>\n",
       "      <th>14</th>\n",
       "      <td>2020-07-15 07:11:50.319233260</td>\n",
       "      <td>2</td>\n",
       "    </tr>\n",
       "    <tr>\n",
       "      <th>39</th>\n",
       "      <td>2020-07-15 09:33:48.330967860</td>\n",
       "      <td>3</td>\n",
       "    </tr>\n",
       "  </tbody>\n",
       "</table>\n",
       "</div>"
      ],
      "text/plain": [
       "                    failure_time  gadget_id\n",
       "52 2020-07-15 05:31:44.776014200          4\n",
       "72 2020-07-15 05:48:58.383388460          5\n",
       "53 2020-07-15 06:42:44.569051620          4\n",
       "14 2020-07-15 07:11:50.319233260          2\n",
       "39 2020-07-15 09:33:48.330967860          3"
      ]
     },
     "execution_count": 3,
     "metadata": {},
     "output_type": "execute_result"
    }
   ],
   "source": [
    "df_failures = pd.read_csv('failures.csv', parse_dates=['failure_time'])\n",
    "df_failures = df_failures.sort_values(by = ['failure_time'], ascending=[True])\n",
    "df_failures.head()"
   ]
  },
  {
   "cell_type": "markdown",
   "metadata": {},
   "source": [
    "## Combine both datasets\n",
    "Perform a left-join by matching failure time on nearest measurement time"
   ]
  },
  {
   "cell_type": "code",
   "execution_count": 4,
   "metadata": {},
   "outputs": [],
   "source": [
    "df_combined = pd.merge_asof(df_measurements, df_failures, left_on = 'measurement_time', right_on =  'failure_time', \n",
    "                            by = 'gadget_id', direction = 'forward')"
   ]
  },
  {
   "cell_type": "markdown",
   "metadata": {},
   "source": [
    "## Feature Engineering\n",
    "1. Create a column that calculates the difference between the failure time and measurement time\n",
    "2. Create a column that identifies failure that happened within an hour after measurement\n",
    "3. Create a column that calculates 6 hour rolling standard deviation for the pressure\n",
    "4. Create a column that calculates 6 hour rolling mean for the temperature"
   ]
  },
  {
   "cell_type": "code",
   "execution_count": 5,
   "metadata": {},
   "outputs": [],
   "source": [
    "df_combined['time_to_fail'] = df_combined['failure_time'] - df_combined['measurement_time']\n",
    "df_combined['fail_in_1h'] = np.where(df_combined['time_to_fail'] < pd.Timedelta(hours=1), 1, 0)\n",
    "df_combined = df_combined.reset_index(drop=True)\n",
    "df_combined = df_combined.sort_values(by=['gadget_id', 'measurement_time'], ascending=[True, True])"
   ]
  },
  {
   "cell_type": "code",
   "execution_count": 6,
   "metadata": {},
   "outputs": [],
   "source": [
    "df_combined['temperature_6h_std'] = df_combined.groupby('gadget_id')['temperature'].rolling(6).std(ddof=0).reset_index(drop=True)\n",
    "df_combined['pressure_6h_mean'] = df_combined.groupby('gadget_id')['pressure'].rolling(6).mean().reset_index(drop=True)"
   ]
  },
  {
   "cell_type": "code",
   "execution_count": 7,
   "metadata": {},
   "outputs": [
    {
     "data": {
      "text/html": [
       "<div>\n",
       "<style scoped>\n",
       "    .dataframe tbody tr th:only-of-type {\n",
       "        vertical-align: middle;\n",
       "    }\n",
       "\n",
       "    .dataframe tbody tr th {\n",
       "        vertical-align: top;\n",
       "    }\n",
       "\n",
       "    .dataframe thead th {\n",
       "        text-align: right;\n",
       "    }\n",
       "</style>\n",
       "<table border=\"1\" class=\"dataframe\">\n",
       "  <thead>\n",
       "    <tr style=\"text-align: right;\">\n",
       "      <th></th>\n",
       "      <th>measurement_time</th>\n",
       "      <th>gadget_id</th>\n",
       "      <th>vibration_x</th>\n",
       "      <th>vibration_y</th>\n",
       "      <th>pressure</th>\n",
       "      <th>temperature</th>\n",
       "      <th>Unnamed: 10</th>\n",
       "      <th>Unnamed: 11</th>\n",
       "      <th>failure_time</th>\n",
       "      <th>time_to_fail</th>\n",
       "      <th>fail_in_1h</th>\n",
       "      <th>temperature_6h_std</th>\n",
       "      <th>pressure_6h_mean</th>\n",
       "    </tr>\n",
       "  </thead>\n",
       "  <tbody>\n",
       "    <tr>\n",
       "      <th>0</th>\n",
       "      <td>2020-07-15 00:00:00.000</td>\n",
       "      <td>1</td>\n",
       "      <td>3</td>\n",
       "      <td>7</td>\n",
       "      <td>16.0</td>\n",
       "      <td>44.114437</td>\n",
       "      <td>NaN</td>\n",
       "      <td>NaN</td>\n",
       "      <td>2020-07-15 09:56:03.974006640</td>\n",
       "      <td>0 days 09:56:03.974006640</td>\n",
       "      <td>0</td>\n",
       "      <td>NaN</td>\n",
       "      <td>NaN</td>\n",
       "    </tr>\n",
       "    <tr>\n",
       "      <th>7</th>\n",
       "      <td>2020-07-15 01:00:00.000</td>\n",
       "      <td>1</td>\n",
       "      <td>8</td>\n",
       "      <td>3</td>\n",
       "      <td>12.0</td>\n",
       "      <td>34.395177</td>\n",
       "      <td>NaN</td>\n",
       "      <td>NaN</td>\n",
       "      <td>2020-07-15 09:56:03.974006640</td>\n",
       "      <td>0 days 08:56:03.974006640</td>\n",
       "      <td>0</td>\n",
       "      <td>3.453742</td>\n",
       "      <td>15.500000</td>\n",
       "    </tr>\n",
       "    <tr>\n",
       "      <th>13</th>\n",
       "      <td>2020-07-15 01:59:59.990</td>\n",
       "      <td>1</td>\n",
       "      <td>10</td>\n",
       "      <td>8</td>\n",
       "      <td>20.0</td>\n",
       "      <td>38.280705</td>\n",
       "      <td>NaN</td>\n",
       "      <td>NaN</td>\n",
       "      <td>2020-07-15 09:56:03.974006640</td>\n",
       "      <td>0 days 07:56:03.984006640</td>\n",
       "      <td>0</td>\n",
       "      <td>3.803752</td>\n",
       "      <td>16.833333</td>\n",
       "    </tr>\n",
       "    <tr>\n",
       "      <th>18</th>\n",
       "      <td>2020-07-15 02:59:59.985</td>\n",
       "      <td>1</td>\n",
       "      <td>6</td>\n",
       "      <td>5</td>\n",
       "      <td>20.0</td>\n",
       "      <td>41.878215</td>\n",
       "      <td>NaN</td>\n",
       "      <td>NaN</td>\n",
       "      <td>2020-07-15 09:56:03.974006640</td>\n",
       "      <td>0 days 06:56:03.989006640</td>\n",
       "      <td>0</td>\n",
       "      <td>3.679122</td>\n",
       "      <td>15.166667</td>\n",
       "    </tr>\n",
       "    <tr>\n",
       "      <th>25</th>\n",
       "      <td>2020-07-15 03:59:59.980</td>\n",
       "      <td>1</td>\n",
       "      <td>6</td>\n",
       "      <td>9</td>\n",
       "      <td>16.0</td>\n",
       "      <td>39.257268</td>\n",
       "      <td>NaN</td>\n",
       "      <td>NaN</td>\n",
       "      <td>2020-07-15 09:56:03.974006640</td>\n",
       "      <td>0 days 05:56:03.994006640</td>\n",
       "      <td>0</td>\n",
       "      <td>9.337838</td>\n",
       "      <td>13.000000</td>\n",
       "    </tr>\n",
       "    <tr>\n",
       "      <th>...</th>\n",
       "      <td>...</td>\n",
       "      <td>...</td>\n",
       "      <td>...</td>\n",
       "      <td>...</td>\n",
       "      <td>...</td>\n",
       "      <td>...</td>\n",
       "      <td>...</td>\n",
       "      <td>...</td>\n",
       "      <td>...</td>\n",
       "      <td>...</td>\n",
       "      <td>...</td>\n",
       "      <td>...</td>\n",
       "      <td>...</td>\n",
       "    </tr>\n",
       "    <tr>\n",
       "      <th>978</th>\n",
       "      <td>2020-07-21 18:59:59.505</td>\n",
       "      <td>6</td>\n",
       "      <td>6</td>\n",
       "      <td>5</td>\n",
       "      <td>10.0</td>\n",
       "      <td>71.493668</td>\n",
       "      <td>NaN</td>\n",
       "      <td>NaN</td>\n",
       "      <td>2020-07-21 21:55:15.463450739</td>\n",
       "      <td>0 days 02:55:15.958450739</td>\n",
       "      <td>0</td>\n",
       "      <td>2.523321</td>\n",
       "      <td>14.750000</td>\n",
       "    </tr>\n",
       "    <tr>\n",
       "      <th>989</th>\n",
       "      <td>2020-07-21 19:59:59.505</td>\n",
       "      <td>6</td>\n",
       "      <td>6</td>\n",
       "      <td>4</td>\n",
       "      <td>15.0</td>\n",
       "      <td>68.088351</td>\n",
       "      <td>NaN</td>\n",
       "      <td>NaN</td>\n",
       "      <td>2020-07-21 21:55:15.463450739</td>\n",
       "      <td>0 days 01:55:15.958450739</td>\n",
       "      <td>0</td>\n",
       "      <td>4.888758</td>\n",
       "      <td>14.750000</td>\n",
       "    </tr>\n",
       "    <tr>\n",
       "      <th>992</th>\n",
       "      <td>2020-07-21 20:59:59.505</td>\n",
       "      <td>6</td>\n",
       "      <td>7</td>\n",
       "      <td>8</td>\n",
       "      <td>11.0</td>\n",
       "      <td>79.375957</td>\n",
       "      <td>NaN</td>\n",
       "      <td>NaN</td>\n",
       "      <td>2020-07-21 21:55:15.463450739</td>\n",
       "      <td>0 days 00:55:15.958450739</td>\n",
       "      <td>1</td>\n",
       "      <td>3.862833</td>\n",
       "      <td>15.000000</td>\n",
       "    </tr>\n",
       "    <tr>\n",
       "      <th>998</th>\n",
       "      <td>2020-07-21 21:59:59.505</td>\n",
       "      <td>6</td>\n",
       "      <td>6</td>\n",
       "      <td>7</td>\n",
       "      <td>16.0</td>\n",
       "      <td>80.754416</td>\n",
       "      <td>NaN</td>\n",
       "      <td>NaN</td>\n",
       "      <td>2020-07-21 22:09:51.002875980</td>\n",
       "      <td>0 days 00:09:51.497875980</td>\n",
       "      <td>1</td>\n",
       "      <td>5.541126</td>\n",
       "      <td>14.916667</td>\n",
       "    </tr>\n",
       "    <tr>\n",
       "      <th>1007</th>\n",
       "      <td>2020-07-21 22:59:59.505</td>\n",
       "      <td>6</td>\n",
       "      <td>4</td>\n",
       "      <td>4</td>\n",
       "      <td>19.0</td>\n",
       "      <td>80.604887</td>\n",
       "      <td>NaN</td>\n",
       "      <td>NaN</td>\n",
       "      <td>NaT</td>\n",
       "      <td>NaT</td>\n",
       "      <td>0</td>\n",
       "      <td>4.835146</td>\n",
       "      <td>13.833333</td>\n",
       "    </tr>\n",
       "  </tbody>\n",
       "</table>\n",
       "<p>1008 rows × 13 columns</p>\n",
       "</div>"
      ],
      "text/plain": [
       "            measurement_time  gadget_id  vibration_x  vibration_y  pressure  \\\n",
       "0    2020-07-15 00:00:00.000          1            3            7      16.0   \n",
       "7    2020-07-15 01:00:00.000          1            8            3      12.0   \n",
       "13   2020-07-15 01:59:59.990          1           10            8      20.0   \n",
       "18   2020-07-15 02:59:59.985          1            6            5      20.0   \n",
       "25   2020-07-15 03:59:59.980          1            6            9      16.0   \n",
       "...                      ...        ...          ...          ...       ...   \n",
       "978  2020-07-21 18:59:59.505          6            6            5      10.0   \n",
       "989  2020-07-21 19:59:59.505          6            6            4      15.0   \n",
       "992  2020-07-21 20:59:59.505          6            7            8      11.0   \n",
       "998  2020-07-21 21:59:59.505          6            6            7      16.0   \n",
       "1007 2020-07-21 22:59:59.505          6            4            4      19.0   \n",
       "\n",
       "      temperature  Unnamed: 10  Unnamed: 11                  failure_time  \\\n",
       "0       44.114437          NaN          NaN 2020-07-15 09:56:03.974006640   \n",
       "7       34.395177          NaN          NaN 2020-07-15 09:56:03.974006640   \n",
       "13      38.280705          NaN          NaN 2020-07-15 09:56:03.974006640   \n",
       "18      41.878215          NaN          NaN 2020-07-15 09:56:03.974006640   \n",
       "25      39.257268          NaN          NaN 2020-07-15 09:56:03.974006640   \n",
       "...           ...          ...          ...                           ...   \n",
       "978     71.493668          NaN          NaN 2020-07-21 21:55:15.463450739   \n",
       "989     68.088351          NaN          NaN 2020-07-21 21:55:15.463450739   \n",
       "992     79.375957          NaN          NaN 2020-07-21 21:55:15.463450739   \n",
       "998     80.754416          NaN          NaN 2020-07-21 22:09:51.002875980   \n",
       "1007    80.604887          NaN          NaN                           NaT   \n",
       "\n",
       "                  time_to_fail  fail_in_1h  temperature_6h_std  \\\n",
       "0    0 days 09:56:03.974006640           0                 NaN   \n",
       "7    0 days 08:56:03.974006640           0            3.453742   \n",
       "13   0 days 07:56:03.984006640           0            3.803752   \n",
       "18   0 days 06:56:03.989006640           0            3.679122   \n",
       "25   0 days 05:56:03.994006640           0            9.337838   \n",
       "...                        ...         ...                 ...   \n",
       "978  0 days 02:55:15.958450739           0            2.523321   \n",
       "989  0 days 01:55:15.958450739           0            4.888758   \n",
       "992  0 days 00:55:15.958450739           1            3.862833   \n",
       "998  0 days 00:09:51.497875980           1            5.541126   \n",
       "1007                       NaT           0            4.835146   \n",
       "\n",
       "      pressure_6h_mean  \n",
       "0                  NaN  \n",
       "7            15.500000  \n",
       "13           16.833333  \n",
       "18           15.166667  \n",
       "25           13.000000  \n",
       "...                ...  \n",
       "978          14.750000  \n",
       "989          14.750000  \n",
       "992          15.000000  \n",
       "998          14.916667  \n",
       "1007         13.833333  \n",
       "\n",
       "[1008 rows x 13 columns]"
      ]
     },
     "execution_count": 7,
     "metadata": {},
     "output_type": "execute_result"
    }
   ],
   "source": [
    "df_combined\n"
   ]
  },
  {
   "cell_type": "markdown",
   "metadata": {},
   "source": [
    "## Prepare Training and Testing Dataset"
   ]
  },
  {
   "cell_type": "code",
   "execution_count": 8,
   "metadata": {},
   "outputs": [],
   "source": [
    "X = ['vibration_y', 'pressure_6h_mean', 'temperature_6h_std']\n",
    "y = 'fail_in_1h'\n",
    "cols = X + [y]\n",
    "\n",
    "df_to_split = df_combined.copy()\n",
    "df_to_split = df_to_split.dropna(subset=cols)\n",
    "df_to_split = df_to_split.reset_index(drop=True)\n"
   ]
  },
  {
   "cell_type": "code",
   "execution_count": 9,
   "metadata": {},
   "outputs": [],
   "source": [
    "binner = KBinsDiscretizer(n_bins=10, encode='onehot-dense', strategy='kmeans')\n",
    "df_bins = pd.DataFrame(binner.fit_transform(df_to_split[X]))\n",
    "\n",
    "X = list(df_bins.columns)\n",
    "cols = X + [y]"
   ]
  },
  {
   "cell_type": "code",
   "execution_count": 10,
   "metadata": {},
   "outputs": [],
   "source": [
    "df_to_split = pd.concat([df_to_split, df_bins], axis=1)\n",
    "\n",
    "df_train = df_to_split[df_to_split['gadget_id'].isin([1,2,3,4])].reset_index(drop=True).copy()\n",
    "df_test = df_to_split[df_to_split['gadget_id'].isin([5,6])].reset_index(drop=True).copy()"
   ]
  },
  {
   "cell_type": "code",
   "execution_count": 11,
   "metadata": {},
   "outputs": [
    {
     "data": {
      "image/png": "[encoded data removed]",
      "text/plain": [
       "<Figure size 432x288 with 1 Axes>"
      ]
     },
     "metadata": {
      "needs_background": "light"
     },
     "output_type": "display_data"
    }
   ],
   "source": [
    "ax = sns.countplot(x=\"fail_in_1h\", data=df_combined)"
   ]
  },
  {
   "cell_type": "markdown",
   "metadata": {},
   "source": [
    "# Prediction Models"
   ]
  },
  {
   "cell_type": "code",
   "execution_count": 12,
   "metadata": {},
   "outputs": [],
   "source": [
    "w0 = 1\n",
    "w1 = 9\n",
    "pos_label = 1"
   ]
  },
  {
   "cell_type": "markdown",
   "metadata": {},
   "source": [
    "## Neural Network"
   ]
  },
  {
   "cell_type": "code",
   "execution_count": 13,
   "metadata": {},
   "outputs": [],
   "source": [
    "nn = MLPClassifier(solver='lbfgs', alpha=1e-5, hidden_layer_sizes=(10), random_state=1, max_iter=10000, activation='relu',\n",
    "                   tol=0.00001)\n",
    "nn.fit(df_train[X], df_train[y])\n",
    "df_test['nn'] = nn.predict(df_test[X])"
   ]
  },
  {
   "cell_type": "markdown",
   "metadata": {},
   "source": [
    "## Random Forest "
   ]
  },
  {
   "cell_type": "code",
   "execution_count": 14,
   "metadata": {},
   "outputs": [],
   "source": [
    "random_forest = RandomForestClassifier(min_samples_leaf=7, random_state=45, n_estimators=50, class_weight={0:w0, 1:w1})\n",
    "random_forest.fit(df_train[X], df_train[y])\n",
    "df_test['random_forest'] = random_forest.predict(df_test[X])"
   ]
  },
  {
   "cell_type": "markdown",
   "metadata": {},
   "source": [
    "## Random Forest with Random Search Cross Validation"
   ]
  },
  {
   "cell_type": "code",
   "execution_count": 15,
   "metadata": {},
   "outputs": [
    {
     "name": "stdout",
     "output_type": "stream",
     "text": [
      "{'bootstrap': [True, False],\n",
      " 'class_weight': [{0: 1, 1: 8}, {0: 1, 1: 9}, {0: 1, 1: 10}],\n",
      " 'max_depth': [10, 20, 30, 40, 50, 60, 70, 80, 90, 100, 110, None],\n",
      " 'max_features': ['auto', 'sqrt'],\n",
      " 'min_samples_leaf': [1, 2, 4],\n",
      " 'min_samples_split': [2, 5, 10],\n",
      " 'n_estimators': [200, 400, 600, 800, 1000, 1200, 1400, 1600, 1800, 2000]}\n"
     ]
    }
   ],
   "source": [
    "# Number of trees in random forest\n",
    "n_estimators = [int(x) for x in np.linspace(start = 200, stop = 2000, num = 10)]\n",
    "# Number of features to consider at every split\n",
    "max_features = ['auto', 'sqrt']\n",
    "# Maximum number of levels in tree\n",
    "max_depth = [int(x) for x in np.linspace(10, 110, num = 11)]\n",
    "max_depth.append(None)\n",
    "# Minimum number of samples required to split a node\n",
    "min_samples_split = [2, 5, 10]\n",
    "# Minimum number of samples required at each leaf node\n",
    "min_samples_leaf = [1, 2, 4]\n",
    "# Method of selecting samples for training each tree\n",
    "bootstrap = [True, False]\n",
    "# The degree of penalization for each class\n",
    "class_weight = [{0: 1, 1: 8},{0: 1, 1: 9},{0: 1, 1: 10}]\n",
    "# Create the random grid\n",
    "random_grid = {'n_estimators': n_estimators,\n",
    "               'max_features': max_features,\n",
    "               'max_depth': max_depth,\n",
    "               'min_samples_split': min_samples_split,\n",
    "               'min_samples_leaf': min_samples_leaf,\n",
    "               'bootstrap': bootstrap,\n",
    "               'class_weight':class_weight}\n",
    "pprint(random_grid)"
   ]
  },
  {
   "cell_type": "code",
   "execution_count": 16,
   "metadata": {},
   "outputs": [
    {
     "name": "stdout",
     "output_type": "stream",
     "text": [
      "Fitting 3 folds for each of 100 candidates, totalling 300 fits\n"
     ]
    },
    {
     "name": "stderr",
     "output_type": "stream",
     "text": [
      "[Parallel(n_jobs=-1)]: Using backend LokyBackend with 8 concurrent workers.\n",
      "[Parallel(n_jobs=-1)]: Done  25 tasks      | elapsed:    6.6s\n",
      "[Parallel(n_jobs=-1)]: Done 146 tasks      | elapsed:   39.1s\n",
      "[Parallel(n_jobs=-1)]: Done 300 out of 300 | elapsed:  1.3min finished\n"
     ]
    },
    {
     "data": {
      "text/plain": [
       "RandomizedSearchCV(cv=3, estimator=RandomForestClassifier(), n_iter=100,\n",
       "                   n_jobs=-1,\n",
       "                   param_distributions={'bootstrap': [True, False],\n",
       "                                        'class_weight': [{0: 1, 1: 8},\n",
       "                                                         {0: 1, 1: 9},\n",
       "                                                         {0: 1, 1: 10}],\n",
       "                                        'max_depth': [10, 20, 30, 40, 50, 60,\n",
       "                                                      70, 80, 90, 100, 110,\n",
       "                                                      None],\n",
       "                                        'max_features': ['auto', 'sqrt'],\n",
       "                                        'min_samples_leaf': [1, 2, 4],\n",
       "                                        'min_samples_split': [2, 5, 10],\n",
       "                                        'n_estimators': [200, 400, 600, 800,\n",
       "                                                         1000, 1200, 1400, 1600,\n",
       "                                                         1800, 2000]},\n",
       "                   random_state=42, verbose=2)"
      ]
     },
     "execution_count": 16,
     "metadata": {},
     "output_type": "execute_result"
    }
   ],
   "source": [
    "# Use the random grid to search for best hyperparameters\n",
    "# First create the base model to tune\n",
    "rf = RandomForestClassifier()\n",
    "# Random search of parameters, using 3 fold cross validation, \n",
    "# search across 100 different combinations, and use all available cores\n",
    "rf_random = RandomizedSearchCV(estimator = rf, param_distributions = random_grid, n_iter = 100, cv = 3, verbose=2, random_state=42, n_jobs = -1)\n",
    "# Fit the random search model\n",
    "rf_random.fit(df_train[X], df_train[y])"
   ]
  },
  {
   "cell_type": "code",
   "execution_count": 17,
   "metadata": {},
   "outputs": [],
   "source": [
    "df_test['tuned_random_forest'] = rf_random.predict(df_test[X])"
   ]
  },
  {
   "cell_type": "code",
   "execution_count": 18,
   "metadata": {},
   "outputs": [
    {
     "data": {
      "text/plain": [
       "{'n_estimators': 800,\n",
       " 'min_samples_split': 2,\n",
       " 'min_samples_leaf': 1,\n",
       " 'max_features': 'sqrt',\n",
       " 'max_depth': 20,\n",
       " 'class_weight': {0: 1, 1: 9},\n",
       " 'bootstrap': True}"
      ]
     },
     "execution_count": 18,
     "metadata": {},
     "output_type": "execute_result"
    }
   ],
   "source": [
    "rf_random.best_params_"
   ]
  },
  {
   "cell_type": "markdown",
   "metadata": {},
   "source": [
    "## Random Forest with Grid Search with Cross Validation"
   ]
  },
  {
   "cell_type": "code",
   "execution_count": 19,
   "metadata": {},
   "outputs": [],
   "source": [
    "# Create the parameter grid based on the results of random search \n",
    "param_grid = {\n",
    "    'bootstrap': [True],\n",
    "    'max_depth': [90, 100, 110, 120, 130],\n",
    "    'max_features': ['sqrt'],\n",
    "    'min_samples_leaf': [1, 2, 3],\n",
    "    'min_samples_split': [1, 2, 3],\n",
    "    'n_estimators': [1900, 2000, 2100],\n",
    "    'class_weight': [{0: 1, 1: 7},{0: 1, 1: 8},{0: 1, 1: 9}]\n",
    "}\n",
    "\n",
    "# Create a based model\n",
    "rf = RandomForestClassifier()\n",
    "\n",
    "# Instantiate the grid search model\n",
    "grid_search = GridSearchCV(estimator = rf, param_grid = param_grid, cv = 3, n_jobs = -1, verbose = 2)"
   ]
  },
  {
   "cell_type": "code",
   "execution_count": 20,
   "metadata": {},
   "outputs": [
    {
     "name": "stdout",
     "output_type": "stream",
     "text": [
      "Fitting 3 folds for each of 405 candidates, totalling 1215 fits\n"
     ]
    },
    {
     "name": "stderr",
     "output_type": "stream",
     "text": [
      "[Parallel(n_jobs=-1)]: Using backend LokyBackend with 8 concurrent workers.\n",
      "[Parallel(n_jobs=-1)]: Done  25 tasks      | elapsed:    8.9s\n",
      "[Parallel(n_jobs=-1)]: Done 146 tasks      | elapsed:   49.1s\n",
      "[Parallel(n_jobs=-1)]: Done 349 tasks      | elapsed:  2.0min\n",
      "[Parallel(n_jobs=-1)]: Done 632 tasks      | elapsed:  3.5min\n",
      "[Parallel(n_jobs=-1)]: Done 997 tasks      | elapsed:  5.6min\n",
      "[Parallel(n_jobs=-1)]: Done 1215 out of 1215 | elapsed:  6.9min finished\n"
     ]
    },
    {
     "data": {
      "text/plain": [
       "GridSearchCV(cv=3, estimator=RandomForestClassifier(), n_jobs=-1,\n",
       "             param_grid={'bootstrap': [True],\n",
       "                         'class_weight': [{0: 1, 1: 7}, {0: 1, 1: 8},\n",
       "                                          {0: 1, 1: 9}],\n",
       "                         'max_depth': [90, 100, 110, 120, 130],\n",
       "                         'max_features': ['sqrt'],\n",
       "                         'min_samples_leaf': [1, 2, 3],\n",
       "                         'min_samples_split': [1, 2, 3],\n",
       "                         'n_estimators': [1900, 2000, 2100]},\n",
       "             verbose=2)"
      ]
     },
     "execution_count": 20,
     "metadata": {},
     "output_type": "execute_result"
    }
   ],
   "source": [
    "# Fit the grid search to the data\n",
    "grid_search.fit(df_train[X], df_train[y])"
   ]
  },
  {
   "cell_type": "code",
   "execution_count": 21,
   "metadata": {},
   "outputs": [],
   "source": [
    "df_test['gridsearch_random_forest'] = grid_search.predict(df_test[X])"
   ]
  },
  {
   "cell_type": "markdown",
   "metadata": {},
   "source": [
    "## Logistic Regression Model"
   ]
  },
  {
   "cell_type": "code",
   "execution_count": 22,
   "metadata": {},
   "outputs": [],
   "source": [
    "log_reg = LogisticRegression(class_weight={0:w0, 1:w1})\n",
    "log_reg.fit(df_train[X], df_train[y])\n",
    "df_test['log_reg'] = log_reg.predict(df_test[X])"
   ]
  },
  {
   "cell_type": "markdown",
   "metadata": {},
   "source": [
    "## Linear Regression Model"
   ]
  },
  {
   "cell_type": "markdown",
   "metadata": {},
   "source": [
    "## KNN "
   ]
  },
  {
   "cell_type": "code",
   "execution_count": 24,
   "metadata": {},
   "outputs": [],
   "source": [
    "def knn_weights(knn_y):\n",
    "    return np.where(knn_y==1, w1, w0)\n",
    "\n",
    "knn = KNeighborsClassifier(weights = knn_weights)\n",
    "knn.fit(df_train[X], df_train[y])\n",
    "df_test['knn'] = knn.predict(df_test[X])"
   ]
  },
  {
   "cell_type": "markdown",
   "metadata": {},
   "source": [
    "## SVM"
   ]
  },
  {
   "cell_type": "code",
   "execution_count": 25,
   "metadata": {},
   "outputs": [],
   "source": [
    "svm = SVC(class_weight={0:w0, 1:w1}, C=1, random_state=42, kernel='linear')\n",
    "svm.fit(df_train[X], df_train[y])\n",
    "df_test['svm'] = svm.predict(df_test[X])"
   ]
  },
  {
   "cell_type": "markdown",
   "metadata": {},
   "source": [
    "## Naive Bayes"
   ]
  },
  {
   "cell_type": "code",
   "execution_count": 26,
   "metadata": {},
   "outputs": [],
   "source": [
    "bayes = GaussianNB()\n",
    "bayes.fit(df_train[X], df_train[y])\n",
    "df_test['bayes'] = bayes.predict(df_test[X])"
   ]
  },
  {
   "cell_type": "markdown",
   "metadata": {},
   "source": [
    "## Results"
   ]
  },
  {
   "cell_type": "code",
   "execution_count": 30,
   "metadata": {},
   "outputs": [
    {
     "name": "stdout",
     "output_type": "stream",
     "text": [
      "\n",
      "-----------\n",
      "random_forest\n",
      "Precision: 0.3106796116504854\n",
      "Recall: 1.0\n",
      "0    224\n",
      "1    103\n",
      "Name: random_forest, dtype: int64\n",
      "\n",
      "-----------\n",
      "tuned_random_forest\n",
      "Precision: 0.3142857142857143\n",
      "Recall: 0.6875\n",
      "0    257\n",
      "1     70\n",
      "Name: tuned_random_forest, dtype: int64\n",
      "\n",
      "-----------\n",
      "gridsearch_random_forest\n",
      "Precision: 0.3283582089552239\n",
      "Recall: 0.6875\n",
      "0    260\n",
      "1     67\n",
      "Name: gridsearch_random_forest, dtype: int64\n",
      "\n",
      "-----------\n",
      "log_reg\n",
      "Precision: 0.3\n",
      "Recall: 0.9375\n",
      "0    227\n",
      "1    100\n",
      "Name: log_reg, dtype: int64\n",
      "\n",
      "-----------\n",
      "knn\n",
      "Precision: 0.5\n",
      "Recall: 0.1875\n",
      "0    315\n",
      "1     12\n",
      "Name: knn, dtype: int64\n",
      "\n",
      "-----------\n",
      "nn\n",
      "Precision: 0.4\n",
      "Recall: 0.1875\n",
      "0    312\n",
      "1     15\n",
      "Name: nn, dtype: int64\n",
      "\n",
      "-----------\n",
      "svm\n",
      "Precision: 0.30303030303030304\n",
      "Recall: 0.9375\n",
      "0    228\n",
      "1     99\n",
      "Name: svm, dtype: int64\n",
      "\n",
      "-----------\n",
      "bayes\n",
      "Precision: 0.30303030303030304\n",
      "Recall: 0.9375\n",
      "0    228\n",
      "1     99\n",
      "Name: bayes, dtype: int64\n"
     ]
    }
   ],
   "source": [
    "model_summary = []\n",
    "models = ['random_forest', 'tuned_random_forest', 'gridsearch_random_forest','log_reg', 'knn', 'nn', 'svm', 'bayes']\n",
    "\n",
    "for m in models:\n",
    "    print(f\"\\n-----------\\n{m}\")\n",
    "    try:\n",
    "        precision = precision_score(df_test['fail_in_1h'], df_test[m], zero_division=0, pos_label=pos_label)\n",
    "        recall = recall_score(df_test['fail_in_1h'], df_test[m], pos_label=pos_label)\n",
    "        \n",
    "        print(f\"Precision: {precision}\")\n",
    "        print(f\"Recall: {recall}\")\n",
    "        print(df_test[m].value_counts())\n",
    "\n",
    "        model_summary.append({\n",
    "            'model': m,\n",
    "            'precision': precision,\n",
    "            'recall': recall\n",
    "        })\n",
    "\n",
    "    except:\n",
    "        print(\"Can't calculate score\")"
   ]
  },
  {
   "cell_type": "code",
   "execution_count": 31,
   "metadata": {},
   "outputs": [
    {
     "name": "stdout",
     "output_type": "stream",
     "text": [
      "   gadget_id        measurement_time    0    1    2    3    4    5    6    7  \\\n",
      "0          5 2020-07-15 01:00:00.000  0.0  0.0  0.0  0.0  1.0  0.0  0.0  0.0   \n",
      "1          5 2020-07-15 01:59:59.990  0.0  0.0  0.0  0.0  0.0  0.0  0.0  1.0   \n",
      "2          5 2020-07-15 02:59:59.985  0.0  0.0  0.0  1.0  0.0  0.0  0.0  0.0   \n",
      "3          5 2020-07-15 03:59:59.980  0.0  0.0  0.0  0.0  0.0  0.0  0.0  0.0   \n",
      "4          5 2020-07-15 04:59:59.975  0.0  0.0  0.0  0.0  0.0  0.0  0.0  0.0   \n",
      "\n",
      "   ...   29  fail_in_1h  random_forest  tuned_random_forest  \\\n",
      "0  ...  0.0           0              0                    0   \n",
      "1  ...  0.0           0              1                    1   \n",
      "2  ...  0.0           0              0                    0   \n",
      "3  ...  0.0           0              1                    0   \n",
      "4  ...  0.0           1              1                    1   \n",
      "\n",
      "   gridsearch_random_forest  log_reg  knn  nn  svm  bayes  \n",
      "0                         0        0    0   0    0      0  \n",
      "1                         1        1    0   0    1      1  \n",
      "2                         0        0    0   0    0      0  \n",
      "3                         0        1    0   1    1      1  \n",
      "4                         1        1    0   1    1      1  \n",
      "\n",
      "[5 rows x 41 columns]\n"
     ]
    },
    {
     "data": {
      "image/png": "[encoded data removed]",
      "text/plain": [
       "<Figure size 432x288 with 1 Axes>"
      ]
     },
     "metadata": {
      "needs_background": "light"
     },
     "output_type": "display_data"
    }
   ],
   "source": [
    "#PRINT RESULT DATAFRAME\n",
    "print(df_test[['gadget_id', 'measurement_time'] + cols + models].head(5))\n",
    "\n",
    "#CREATE IMAGE FOR MODEL COMPARISON\n",
    "df_summary = pd.DataFrame(model_summary)\n",
    "\n",
    "x = np.arange(len(df_summary['model']))\n",
    "width = 0.35\n",
    "\n",
    "fig, ax = plt.subplots()\n",
    "rects1 = ax.bar(x - width/2, df_summary['precision'], width, label='Precision')\n",
    "rects2 = ax.bar(x + width/2, df_summary['recall'], width, label='Recall')\n",
    "\n",
    "# Add some text for labels, title and custom x-axis tick labels, etc.\n",
    "ax.set_ylabel('Result')\n",
    "ax.set_title('Precision and Recall by machine learning model')\n",
    "ax.set_xticks(x)\n",
    "ax.set_xticklabels(df_summary['model'])\n",
    "plt.xticks(rotation=90)\n",
    "ax.legend()\n",
    "\n",
    "fig.tight_layout()"
   ]
  },
  {
   "cell_type": "markdown",
   "metadata": {},
   "source": [
    "Precision explains the percentage of failure predictions that were correct.\n",
    "\n",
    "Recall explains the percentage of failures that the model captured.\n",
    "\n",
    "Ideally we would want target for high precision and high recall. \n",
    "\n",
    "However, since these are dummy data, it included wicked fake patterns and randomness that would be difficult to capture without exact thresholds.\n",
    "\n"
   ]
  },
  {
   "cell_type": "markdown",
   "metadata": {},
   "source": [
    "Nevertheless, the aim of this project is to practise implementing various models to the data and then, tune the models using Grid Search CV and to acquire improvise the performance. "
   ]
  },
  {
   "cell_type": "code",
   "execution_count": null,
   "metadata": {},
   "outputs": [],
   "source": []
  }
 ],
 "metadata": {
  "kernelspec": {
   "display_name": "Python 3",
   "language": "python",
   "name": "python3"
  },
  "language_info": {
   "codemirror_mode": {
    "name": "ipython",
    "version": 3
   },
   "file_extension": ".py",
   "mimetype": "text/x-python",
   "name": "python",
   "nbconvert_exporter": "python",
   "pygments_lexer": "ipython3",
   "version": "3.8.3"
  }
 },
 "nbformat": 4,
 "nbformat_minor": 4
}
